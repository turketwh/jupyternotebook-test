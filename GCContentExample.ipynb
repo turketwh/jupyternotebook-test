{
 "cells": [
  {
   "cell_type": "markdown",
   "metadata": {},
   "source": [
    "## Exploring Jupyter Notebooks By Computing GC Content"
   ]
  },
  {
   "cell_type": "markdown",
   "metadata": {},
   "source": [
    "To start this assignment, let's consider a DNA sequence.  DNA sequences can be thought of (in a simple way) as an *ordered sequence of letters* from the set {A, C, G, T}.  In the Python instructions below, the variable named sequence is set to hold the value  AGTCTCGGTAC."
   ]
  },
  {
   "cell_type": "code",
   "execution_count": 2,
   "metadata": {},
   "outputs": [
    {
     "name": "stdout",
     "output_type": "stream",
     "text": [
      "AGTCTCGGTACC\n"
     ]
    }
   ],
   "source": [
    "sequence = \"AGTCTCGGTACC\"\n",
    "print(sequence)"
   ]
  },
  {
   "cell_type": "markdown",
   "metadata": {},
   "source": [
    "We'll want to compute some basic statistics on the sequence, such as its length and the count of each base.  The length can be computed easily using the Python len function applied to the string variable sequence holding the representation of our sequence.  For the counts of each base, we'll initialize four variables to 0, and then we'll look at each letter in the sequence and depending on which letter it is, add 1 to the appropriate count. "
   ]
  },
  {
   "cell_type": "code",
   "execution_count": 3,
   "metadata": {},
   "outputs": [
    {
     "name": "stdout",
     "output_type": "stream",
     "text": [
      "12\n",
      "2\n",
      "4\n",
      "3\n",
      "3\n"
     ]
    }
   ],
   "source": [
    "sequenceLength = len(sequence)\n",
    "print(sequenceLength)\n",
    "\n",
    "def count(inputSequence):\n",
    "    aCount = 0\n",
    "    cCount = 0\n",
    "    gCount = 0\n",
    "    tCount = 0\n",
    "\n",
    "    for letter in sequence:\n",
    "        if letter == 'A':\n",
    "            aCount = aCount+1\n",
    "        elif letter == 'C':\n",
    "            cCount = cCount + 1\n",
    "        elif letter == 'G':\n",
    "            gCount = gCount + 1\n",
    "        elif letter == 'T':\n",
    "            tCount = tCount + 1\n",
    "    print(aCount)\n",
    "    print(cCount)\n",
    "    print(gCount)\n",
    "    print(tCount)\n",
    "    return\n",
    "\n",
    "count(sequence)"
   ]
  },
  {
   "cell_type": "markdown",
   "metadata": {},
   "source": [
    "For RNA, the four bases are Adenine, Cytosine, Guanine, and Uracil (Uracil in place of Thymine).  Copy and paste the code from cell 4 from above and update it to be able to process an RNA sequence.  An sequence and the expected outputs from running your code are included in cells X and Y below."
   ]
  },
  {
   "cell_type": "code",
   "execution_count": 13,
   "metadata": {},
   "outputs": [],
   "source": [
    "def countRNA(inputSequence):\n",
    "    aCount = 0\n",
    "    cCount = 0\n",
    "    gCount = 0\n",
    "    uCount = 0\n",
    "\n",
    "    for letter in sequence:\n",
    "        if letter == 'A':\n",
    "            aCount = aCount+1\n",
    "        elif letter == 'C':\n",
    "            cCount = cCount + 1\n",
    "        elif letter == 'G':\n",
    "            gCount = gCount + 1\n",
    "        elif letter == 'U':\n",
    "            uCount = uCount + 1\n",
    "    print(aCount)\n",
    "    print(cCount)\n",
    "    print(gCount)\n",
    "    print(uCount)\n",
    "    return"
   ]
  },
  {
   "cell_type": "code",
   "execution_count": 14,
   "metadata": {},
   "outputs": [
    {
     "name": "stdout",
     "output_type": "stream",
     "text": [
      "3\n",
      "3\n",
      "3\n",
      "4\n"
     ]
    }
   ],
   "source": [
    "sequence = \"AAAGGGCCCUUUU\"\n",
    "countRNA(sequence)"
   ]
  },
  {
   "cell_type": "markdown",
   "metadata": {},
   "source": [
    "The expected outputs for running countRNA on the RNA sequence should be\n",
    "3\n",
    "3\n",
    "3\n",
    "4"
   ]
  },
  {
   "cell_type": "markdown",
   "metadata": {},
   "source": [
    "If you are interested in more information on GC content, watch the youtube video below.\n",
    "\n",
    "\n",
    "<a href=\"https://www.youtube.com/watch?v=QWPKrDIWsaQ\" target=\"_blank\"><img src=\"https://img.youtube.com/vi/QWPKrDIWsaQ/0.jpg\" alt=\"Click for video\" width=\"240\" height=\"180\" border=\"10\" /></a>"
   ]
  },
  {
   "cell_type": "code",
   "execution_count": 11,
   "metadata": {},
   "outputs": [],
   "source": [
    "%matplotlib inline\n",
    "import matplotlib.pyplot as plt"
   ]
  },
  {
   "cell_type": "code",
   "execution_count": 19,
   "metadata": {},
   "outputs": [
    {
     "name": "stdout",
     "output_type": "stream",
     "text": [
      "[0.15384615384615385, 0.23076923076923078, 0.23076923076923078, 0.23076923076923078]\n"
     ]
    }
   ],
   "source": [
    "sequenceLength = len(sequence)\n",
    "base = ['A','C','G','T']\n",
    "freq = [aCount/sequenceLength,cCount/sequenceLength,gCount/sequenceLength,tCount/sequenceLength]\n",
    "print(freq)"
   ]
  },
  {
   "cell_type": "code",
   "execution_count": 21,
   "metadata": {},
   "outputs": [
    {
     "data": {
      "text/plain": [
       "Text(0,0.5,'Frequency')"
      ]
     },
     "execution_count": 21,
     "metadata": {},
     "output_type": "execute_result"
    },
    {
     "data": {
      "image/png": "[encoded data removed]",
      "text/plain": [
       "<matplotlib.figure.Figure at 0x3714a50>"
      ]
     },
     "metadata": {},
     "output_type": "display_data"
    }
   ],
   "source": [
    "plt.plot(base,freq,'ro')\n",
    "plt.xlabel(\"Base\")\n",
    "plt.ylabel(\"Frequency\")"
   ]
  },
  {
   "cell_type": "code",
   "execution_count": null,
   "metadata": {},
   "outputs": [],
   "source": []
  }
 ],
 "metadata": {
  "kernelspec": {
   "display_name": "Python 3",
   "language": "python",
   "name": "python3"
  },
  "language_info": {
   "codemirror_mode": {
    "name": "ipython",
    "version": 3
   },
   "file_extension": ".py",
   "mimetype": "text/x-python",
   "name": "python",
   "nbconvert_exporter": "python",
   "pygments_lexer": "ipython3",
   "version": "3.6.4"
  }
 },
 "nbformat": 4,
 "nbformat_minor": 2
}
